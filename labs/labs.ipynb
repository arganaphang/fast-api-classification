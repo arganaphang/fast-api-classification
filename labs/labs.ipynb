{
 "cells": [
  {
   "cell_type": "code",
   "execution_count": 2,
   "metadata": {},
   "outputs": [
    {
     "name": "stdout",
     "output_type": "stream",
     "text": [
      "<class 'pandas.core.frame.DataFrame'>\n",
      "RangeIndex: 1427 entries, 0 to 1426\n",
      "Data columns (total 9 columns):\n",
      " #   Column             Non-Null Count  Dtype\n",
      "---  ------             --------------  -----\n",
      " 0   NILLAI             1427 non-null   int64\n",
      " 1   Homepage           1427 non-null   int64\n",
      " 2   Modul Perkuliahan  1427 non-null   int64\n",
      " 3   Forum              1427 non-null   int64\n",
      " 4   Tugas              1427 non-null   int64\n",
      " 5   Kuis               1427 non-null   int64\n",
      " 6   UTS                1427 non-null   int64\n",
      " 7   UAS                1427 non-null   int64\n",
      " 8   Label              1427 non-null   int64\n",
      "dtypes: int64(9)\n",
      "memory usage: 100.5 KB\n"
     ]
    },
    {
     "name": "stderr",
     "output_type": "stream",
     "text": [
      "/Users/argana/Library/Caches/pypoetry/virtualenvs/predict-DMXZyKmP-py3.11/lib/python3.11/site-packages/sklearn/base.py:493: UserWarning: X does not have valid feature names, but GaussianNB was fitted with feature names\n",
      "  warnings.warn(\n"
     ]
    },
    {
     "data": {
      "text/plain": [
       "'Bagus'"
      ]
     },
     "execution_count": 2,
     "metadata": {},
     "output_type": "execute_result"
    },
    {
     "data": {
      "image/png": "[encoded data removed]",
      "text/plain": [
       "<Figure size 640x480 with 1 Axes>"
      ]
     },
     "metadata": {},
     "output_type": "display_data"
    }
   ],
   "source": [
    "import pandas as pd\n",
    "import numpy as np\n",
    "import matplotlib.pyplot as plt\n",
    "import pickle\n",
    "from sklearn.naive_bayes import GaussianNB\n",
    "from sklearn.model_selection import train_test_split\n",
    "from sklearn.metrics import confusion_matrix\n",
    "import seaborn as sns; sns.set()\n",
    "# from sklearn.metrics import classification_report\n",
    "\n",
    "\n",
    "\n",
    "df = pd.read_excel(\"./data/data.xlsx\")\n",
    "df.head()\n",
    "df.describe()\n",
    "df.info()\n",
    "x = df.drop([\"Label\"], axis = 1)\n",
    "y = df[\"Label\"]\n",
    "x_train, x_test, y_train, y_test = train_test_split(x, y, test_size = 0.25)\n",
    "modelnb = GaussianNB()\n",
    "\n",
    "nbtrain = modelnb.fit(x_train, y_train)\n",
    "nbtrain.class_count_\n",
    "\n",
    "y_pred = nbtrain.predict(x_test)\n",
    "\n",
    "pred = modelnb.predict(x_test)\n",
    "\n",
    "mat = confusion_matrix(pred, y_test)\n",
    "names = np.unique(pred)\n",
    "sns.heatmap(mat, square=True, annot=True, fmt='d', cbar=False,\n",
    "        xticklabels=names, yticklabels=names)\n",
    "plt.xlabel('Truth')\n",
    "plt.ylabel('Predicted')\n",
    "\n",
    "filename = \"../model/model.pkl\"\n",
    "\n",
    "pickle.dump(modelnb, open(filename, 'wb'))\n",
    "modelnb = pickle.load(open(filename,'rb'))\n",
    "y_predict = modelnb.predict([[79, 1, 1, 0, 0, 0, 1, 0]])\n",
    "category = {\n",
    "  0: \"Tidak Bagus\",\n",
    "  1: \"Bagus\"\n",
    "}\n",
    "category[y_predict[0]]"
   ]
  }
 ],
 "metadata": {
  "kernelspec": {
   "display_name": "predict-DMXZyKmP-py3.11",
   "language": "python",
   "name": "python3"
  },
  "language_info": {
   "codemirror_mode": {
    "name": "ipython",
    "version": 3
   },
   "file_extension": ".py",
   "mimetype": "text/x-python",
   "name": "python",
   "nbconvert_exporter": "python",
   "pygments_lexer": "ipython3",
   "version": "3.11.7"
  }
 },
 "nbformat": 4,
 "nbformat_minor": 2
}
